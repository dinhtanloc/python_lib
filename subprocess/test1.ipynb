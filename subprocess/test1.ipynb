{
 "cells": [
  {
   "cell_type": "code",
   "execution_count": 1,
   "metadata": {
    "execution": {
     "iopub.execute_input": "2024-03-10T18:55:59.444572Z",
     "iopub.status.busy": "2024-03-10T18:55:59.443572Z",
     "iopub.status.idle": "2024-03-10T18:55:59.578772Z",
     "shell.execute_reply": "2024-03-10T18:55:59.578772Z"
    }
   },
   "outputs": [],
   "source": [
    "import numpy as np"
   ]
  },
  {
   "cell_type": "code",
   "execution_count": 2,
   "metadata": {
    "execution": {
     "iopub.execute_input": "2024-03-10T18:55:59.583408Z",
     "iopub.status.busy": "2024-03-10T18:55:59.582900Z",
     "iopub.status.idle": "2024-03-10T18:55:59.595542Z",
     "shell.execute_reply": "2024-03-10T18:55:59.594378Z"
    }
   },
   "outputs": [],
   "source": [
    "def xin_chao():\n",
    "    print('Xin chao')"
   ]
  },
  {
   "cell_type": "code",
   "execution_count": 3,
   "metadata": {
    "execution": {
     "iopub.execute_input": "2024-03-10T18:55:59.599543Z",
     "iopub.status.busy": "2024-03-10T18:55:59.599543Z",
     "iopub.status.idle": "2024-03-10T18:55:59.608233Z",
     "shell.execute_reply": "2024-03-10T18:55:59.607233Z"
    }
   },
   "outputs": [
    {
     "name": "stdout",
     "output_type": "stream",
     "text": [
      "Xin chao\n"
     ]
    }
   ],
   "source": [
    "xin_chao()"
   ]
  }
 ],
 "metadata": {
  "kernelspec": {
   "display_name": "Python 3",
   "language": "python",
   "name": "python3"
  },
  "language_info": {
   "codemirror_mode": {
    "name": "ipython",
    "version": 3
   },
   "file_extension": ".py",
   "mimetype": "text/x-python",
   "name": "python",
   "nbconvert_exporter": "python",
   "pygments_lexer": "ipython3",
   "version": "3.8.18"
  }
 },
 "nbformat": 4,
 "nbformat_minor": 2
}
